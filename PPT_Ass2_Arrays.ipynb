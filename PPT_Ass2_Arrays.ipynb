{
 "cells": [
  {
   "cell_type": "markdown",
   "id": "b4e2f90a-aef8-4c5f-8b38-ff66ddf71dec",
   "metadata": {},
   "source": [
    "## Q1 :\n",
    "Given an integer array nums of 2n integers, group these integers into n pairs (a1, b1), (a2, b2),..., (an, bn) such that the sum of min(ai, bi) for all i is maximized. Return the maximized sum.\n",
    "\n",
    "Example 1:\n",
    "Input: nums = [1,4,3,2]\n",
    "Output: 4\n",
    "\n",
    "Explanation: All possible pairings (ignoring the ordering of elements) are:\n",
    "\n",
    "1. (1, 4), (2, 3) -> min(1, 4) + min(2, 3) = 1 + 2 = 3\n",
    "2. (1, 3), (2, 4) -> min(1, 3) + min(2, 4) = 1 + 2 = 3\n",
    "3. (1, 2), (3, 4) -> min(1, 2) + min(3, 4) = 1 + 3 = 4\n",
    "So the maximum possible sum is 4"
   ]
  },
  {
   "cell_type": "markdown",
   "id": "1ddaeac3-903d-4006-9639-27e0f600efd3",
   "metadata": {},
   "source": [
    "## Ans:"
   ]
  },
  {
   "cell_type": "markdown",
   "id": "a49c51d7-e12d-4fe4-8892-458fc5734d3e",
   "metadata": {},
   "source": [
    "import java.util.HashMap;\n",
    "import java.util.*;\n",
    "\n",
    "public class Q1{\n",
    "    public static int maxPairSum(int[] arr){\n",
    "\n",
    "        int maxSum = -1;\n",
    "\n",
    "        HashMap<Integer, Integer> map = new HashMap<>();\n",
    "\n",
    "        for(int i = 0; i < arr.length-1; i++){\n",
    "            int key = arr[i];\n",
    "            for(int j = i + 1; j < arr.length; j++){\n",
    "                map.put(key, arr[j]);\n",
    "            }\n",
    "        }\n",
    "\n",
    "        Set<Integer> keys = map.keySet();\n",
    "\n",
    "        Integer[] valuesArray = keys.toArray(new Integer[0]);\n",
    "\n",
    "        List<Integer> keys1 = new ArrayList<>(map.keySet());\n",
    "        int size = keys.size();\n",
    "\n",
    "        for (int i = 0; i < size - 1; i++) {\n",
    "            for (int j = i + 1; j < size; j++) {\n",
    "\n",
    "                int sum = Math.min(map.get(keys1.get(i)), keys1.get(i)) + Math.min(map.get(keys1.get(j)), keys1.get(j));\n",
    "                maxSum = Math.max(maxSum, sum);\n",
    "\n",
    "            }\n",
    "        }\n",
    "\n",
    "        return maxSum;\n",
    "    }\n",
    "    public static void main(String[] args) {\n",
    "        int[] arr = {1, 4, 3, 2};\n",
    "\n",
    "        int res = maxPairSum(arr);\n",
    "\n",
    "        System.out.println(\"The Max Sum is : \" + res);\n",
    "    }\n",
    "}"
   ]
  },
  {
   "cell_type": "code",
   "execution_count": null,
   "id": "4cf457ae-72cd-4997-8f61-461b2a543f30",
   "metadata": {},
   "outputs": [],
   "source": []
  },
  {
   "cell_type": "markdown",
   "id": "73aec41b-3ec1-4fbc-9ee7-a1c677710fe9",
   "metadata": {},
   "source": [
    "# Q2"
   ]
  },
  {
   "cell_type": "markdown",
   "id": "5268a43b-29a3-437c-ab49-a953e24170a4",
   "metadata": {},
   "source": [
    "Alice has n candies, where the ith candy is of type candyType[i]. Alice noticed that she started to gain weight, so she visited a doctor. \n",
    "\n",
    "The doctor advised Alice to only eat n / 2 of the candies she has (n is always even). Alice likes her candies very much, and she wants to eat the maximum number of different types of candies while still following the doctor's advice. \n",
    "\n",
    "Given the integer array candyType of length n, return the maximum number of different types of candies she can eat if she only eats n / 2 of them.\n",
    "\n",
    "Example 1:\n",
    "Input: candyType = [1,1,2,2,3,3]\n",
    "Output: 3\n",
    "\n",
    "Explanation: Alice can only eat 6 / 2 = 3 candies. Since there are only 3 types, she can eat one of each type."
   ]
  },
  {
   "cell_type": "markdown",
   "id": "340f4628-bb45-494a-b44e-a5128f8971b2",
   "metadata": {},
   "source": [
    "## Ans:"
   ]
  },
  {
   "cell_type": "markdown",
   "id": "0ae68f96-1283-47e1-a1c2-3eef057b1875",
   "metadata": {},
   "source": [
    "import java.util.HashSet;\n",
    "\n",
    "public class Q2 {\n",
    "    public static int maxCandies(int[] candyType) {\n",
    "\n",
    "        HashSet<Integer> set = new HashSet<>();\n",
    "\n",
    "        for (int candy : candyType) {\n",
    "            set.add(candy);\n",
    "        }\n",
    "\n",
    "        int maxAllowed = candyType.length / 2;\n",
    "\n",
    "        return Math.min(set.size(), maxAllowed);\n",
    "    }\n",
    "\n",
    "    public static void main(String[] args) {\n",
    "\n",
    "        int[] candyType = {1, 1, 2, 2, 3, 3};\n",
    "\n",
    "        int maxTypes = maxCandies(candyType);\n",
    "\n",
    "        System.out.println(\"Maximum number of types of candies Alice can eat: \" + maxTypes);\n",
    "    }\n",
    "}\n"
   ]
  },
  {
   "cell_type": "code",
   "execution_count": null,
   "id": "34f4a7c9-9dfe-418e-a10a-c34f66bae90b",
   "metadata": {},
   "outputs": [],
   "source": []
  },
  {
   "cell_type": "markdown",
   "id": "aead8b40-7ee9-4569-9700-5d010f3442b2",
   "metadata": {},
   "source": [
    "## Q3"
   ]
  },
  {
   "cell_type": "markdown",
   "id": "b02bcccf-b80e-48d8-b761-0a0c12b1d235",
   "metadata": {},
   "source": [
    "We define a harmonious array as an array where the difference between its maximum value\n",
    "and its minimum value is exactly 1.\n",
    "\n",
    "Given an integer array nums, return the length of its longest harmonious subsequence\n",
    "among all its possible subsequences.\n",
    "\n",
    "A subsequence of an array is a sequence that can be derived from the array by deleting some or no elements without changing the order of the remaining elements.\n",
    "\n",
    "Example 1:\n",
    "Input: nums = [1,3,2,2,5,2,3,7]\n",
    "Output: 5\n",
    "\n",
    "Explanation: The longest harmonious subsequence is [3,2,2,2,3]."
   ]
  },
  {
   "cell_type": "markdown",
   "id": "f1abefac-8bb7-4cd9-9e6e-fa6ee1f91f6a",
   "metadata": {},
   "source": [
    "## Ans:"
   ]
  },
  {
   "cell_type": "markdown",
   "id": "d6897e17-a555-4fd8-b187-47e170aeb1dc",
   "metadata": {},
   "source": [
    "import java.util.HashMap;\n",
    "import java.util.Map;\n",
    "\n",
    "public class Q3 {\n",
    "\n",
    "    public static int findMaxLength(int[] nums) {\n",
    "        Map<Integer, Integer> countMap = new HashMap<>();\n",
    "        int maxLength = 0;\n",
    "\n",
    "        for (int num : nums) {\n",
    "            countMap.put(num, countMap.getOrDefault(num, 0) + 1);\n",
    "        }\n",
    "\n",
    "        for (int num : countMap.keySet()) {\n",
    "            if (countMap.containsKey(num + 1)) {\n",
    "                int currLength = countMap.get(num) + countMap.get(num + 1);\n",
    "                maxLength = Math.max(maxLength, currLength);\n",
    "            }\n",
    "        }\n",
    "\n",
    "        return maxLength;\n",
    "    }\n",
    "\n",
    "    public static void main(String[] args) {\n",
    "        int[] nums = {1, 3, 2, 2, 5, 2, 3, 7};\n",
    "        int maxLength = findMaxLength(nums);\n",
    "        System.out.println(\"Maximum length: \" + maxLength);\n",
    "    }\n",
    "}\n"
   ]
  },
  {
   "cell_type": "code",
   "execution_count": null,
   "id": "b30fb2bc-bc26-4433-93c6-17c9bfe2533c",
   "metadata": {},
   "outputs": [],
   "source": []
  },
  {
   "cell_type": "markdown",
   "id": "613482b5-7a38-4bb4-8bfd-5fe5baffbc9a",
   "metadata": {},
   "source": [
    "## Q4"
   ]
  },
  {
   "cell_type": "markdown",
   "id": "40a2aa7d-b3cb-47fa-b884-ea35b0e8f3ad",
   "metadata": {},
   "source": [
    "You have a long flowerbed in which some of the plots are planted, and some are not.\n",
    "However, flowers cannot be planted in adjacent plots.\n",
    "Given an integer array flowerbed containing 0's and 1's, where 0 means empty and 1 means not empty, and an integer n, return true if n new flowers can be planted in the flowerbed without violating the no-adjacent-flowers rule and false otherwise.\n",
    "\n",
    "Example 1:\n",
    "Input: flowerbed = [1,0,0,0,1], n = 1\n",
    "Output: true"
   ]
  },
  {
   "cell_type": "markdown",
   "id": "6025067d-4ac0-4798-8941-0406b852076e",
   "metadata": {},
   "source": [
    "## Ans:"
   ]
  },
  {
   "cell_type": "markdown",
   "id": "fe4e7b20-5d3f-4a16-84ba-b0d0f9fa8114",
   "metadata": {},
   "source": [
    "public class Q4 {\n",
    "    public static boolean plant(int[] arr, int n){\n",
    "\n",
    "        if(arr.length == 1 && arr[0] == 0){\n",
    "            return true;\n",
    "        }\n",
    "        int cnt = 0;\n",
    "\n",
    "        for(int i = 0; i < arr.length; i++){\n",
    "\n",
    "            if(i == 0 && arr[i] == 0 && arr[i + 1] == 0){\n",
    "                cnt++;\n",
    "                arr[i] = 1;\n",
    "            }\n",
    "\n",
    "            if(i == arr.length - 1 && arr[i - 1] == 0 && arr[i] == 0){\n",
    "                cnt++;\n",
    "                arr[i] = 1;\n",
    "            }\n",
    "\n",
    "            if(arr[i] == 0){\n",
    "                if(arr[i - 1] == 0){\n",
    "                    if(arr[i + 1] == 0){\n",
    "                        cnt++;\n",
    "                        arr[i] = 1;\n",
    "                    }\n",
    "                }\n",
    "            }\n",
    "\n",
    "            System.out.println(\"Here is cnt : \" + cnt);\n",
    "        }\n",
    "\n",
    "        return cnt >= n;\n",
    "    }\n",
    "    public static void main(String[] args){\n",
    "        \n",
    "        int arr[] = {1, 0, 0, 0, 1};\n",
    "        int n = 1;\n",
    "\n",
    "        boolean res = plant(arr, n);\n",
    "\n",
    "        System.out.println();\n",
    "\n",
    "        System.out.println(\"Printing the array\");\n",
    "\n",
    "        for(int i = 0; i < arr.length; i++){\n",
    "            System.out.print(arr[i] + \" \");\n",
    "        }\n",
    "        System.out.println();\n",
    "\n",
    "        System.out.println(\"Here is the result : \" + res);\n",
    "    }\n",
    "}\n"
   ]
  },
  {
   "cell_type": "code",
   "execution_count": null,
   "id": "a4b55acb-3598-4a07-b4f5-806918f9eed9",
   "metadata": {},
   "outputs": [],
   "source": []
  },
  {
   "cell_type": "markdown",
   "id": "dd49dace-c66a-4b59-bc59-f583921e7c59",
   "metadata": {},
   "source": [
    "## Q5"
   ]
  },
  {
   "cell_type": "markdown",
   "id": "be5f1757-34e0-4235-ae20-21c13bb7451e",
   "metadata": {},
   "source": [
    "Given an integer array nums, find three numbers whose product is maximum and return the maximum product.\n",
    "\n",
    "Example 1:\n",
    "Input: nums = [1,2,3]\n",
    "Output: 6"
   ]
  },
  {
   "cell_type": "markdown",
   "id": "a805eee7-24a4-443a-b3e8-ffcfbd6a6e05",
   "metadata": {},
   "source": [
    "## Ans:"
   ]
  },
  {
   "cell_type": "markdown",
   "id": "97d986a8-bde5-4a62-b13f-39996d1d239f",
   "metadata": {},
   "source": [
    "import java.util.*;\n",
    "public class Q5 {\n",
    "\n",
    "    public static int retMaxProd(int[] arr){\n",
    "\n",
    "        Arrays.sort(arr);\n",
    "        int[] res = new int[3];\n",
    "\n",
    "        int n = arr.length;\n",
    "\n",
    "        int product1 = arr[n-1] * arr[n-2] * arr[n-3];\n",
    "\n",
    "        int product2 = arr[0] * arr[1] * arr[n-1];\n",
    "\n",
    "        return Math.max(product1, product2);\n",
    "    }\n",
    "    public static void main(String[] args) {\n",
    "        int[] arr = {1, 2, 3};\n",
    "\n",
    "        int res = retMaxProd(arr);\n",
    "\n",
    "        System.out.println(\"Here is the maximum product : \" + res);\n",
    "    }\n",
    "}\n"
   ]
  },
  {
   "cell_type": "code",
   "execution_count": null,
   "id": "704dd96f-eb01-43fd-81be-788782e291c4",
   "metadata": {},
   "outputs": [],
   "source": []
  },
  {
   "cell_type": "markdown",
   "id": "1f573f98-cc6b-44bc-9ca6-1dd0f3efc8e7",
   "metadata": {},
   "source": [
    "## Q6"
   ]
  },
  {
   "cell_type": "markdown",
   "id": "2db212b3-ba7f-48b4-b00b-fb3c9c2acda8",
   "metadata": {},
   "source": [
    "Given an array of integers nums which is sorted in ascending order, and an integer target,\n",
    "write a function to search target in nums. If target exists, then return its index. Otherwise,\n",
    "return -1.\n",
    "\n",
    "You must write an algorithm with O(log n) runtime complexity.\n",
    "\n",
    "Input: nums = [-1,0,3,5,9,12], target = 9\n",
    "Output: 4\n",
    "\n",
    "Explanation: 9 exists in nums and its index is 4"
   ]
  },
  {
   "cell_type": "markdown",
   "id": "21923990-d2f2-4346-bb27-8d9756a7950a",
   "metadata": {},
   "source": [
    "## Ans:"
   ]
  },
  {
   "cell_type": "markdown",
   "id": "990fccdb-cab2-4b5d-a8d9-7c81f749133d",
   "metadata": {},
   "source": [
    "public class Q6 {\n",
    "    public static int searchElemeny(int[] arr, int k){\n",
    "        int start = 0;\n",
    "        int end = arr.length - 1;\n",
    "\n",
    "        int mid = (start + end)/2;\n",
    "\n",
    "        while(start <= end){\n",
    "            if(arr[mid] == k){\n",
    "                return mid;\n",
    "            }\n",
    "\n",
    "            else if(arr[mid] > k){\n",
    "                end = mid - 1;\n",
    "            }\n",
    "            else{\n",
    "                start = mid+1;\n",
    "            }\n",
    "\n",
    "            mid = (start + end)/2;\n",
    "        }\n",
    "\n",
    "        return -1;\n",
    "    }\n",
    "    public static void main(String[] args) {\n",
    "        int[] arr = {-1, 0, 3, 5, 9, 12};\n",
    "\n",
    "        int k = 9;\n",
    "\n",
    "        int res = searchElemeny(arr, k);\n",
    "\n",
    "        System.out.println(\"Here is the result : \" + res);\n",
    "    }\n",
    "}\n"
   ]
  },
  {
   "cell_type": "code",
   "execution_count": null,
   "id": "5e29d0dd-50a2-4c89-add3-bf2bbe105cc8",
   "metadata": {},
   "outputs": [],
   "source": []
  },
  {
   "cell_type": "markdown",
   "id": "262972d8-b89d-40dc-97ad-9a6ca1bcf3ab",
   "metadata": {},
   "source": [
    "## Q7"
   ]
  },
  {
   "cell_type": "markdown",
   "id": "7f883d3d-bc89-4915-ae96-54eae9d27e17",
   "metadata": {},
   "source": [
    "An array is monotonic if it is either monotone increasing or monotone decreasing.\n",
    "\n",
    "An array nums is monotone increasing if for all i <= j, nums[i] <= nums[j]. An array nums is\n",
    "monotone decreasing if for all i <= j, nums[i] >= nums[j].\n",
    "\n",
    "Given an integer array nums, return true if the given array is monotonic, or false otherwise.\n",
    "\n",
    "Example 1:\n",
    "Input: nums = [1,2,2,3]\n",
    "Output: true"
   ]
  },
  {
   "cell_type": "markdown",
   "id": "7dcb8002-92c3-4f05-b6a6-8701fa0be290",
   "metadata": {},
   "source": [
    "## Ans:"
   ]
  },
  {
   "cell_type": "markdown",
   "id": "06196935-344c-4f44-82bc-452a5bd725db",
   "metadata": {},
   "source": [
    "public class Q7 {\n",
    "\n",
    "    public static boolean checkMonotonic(int[] arr) {\n",
    "        boolean increasing = true;\n",
    "        boolean decreasing = true;\n",
    "\n",
    "        for (int i = 1; i < arr.length; i++) {\n",
    "            if (arr[i - 1] > arr[i]) {\n",
    "                increasing = false;\n",
    "            }\n",
    "            if (arr[i - 1] < arr[i]) {\n",
    "                decreasing = false;\n",
    "            }\n",
    "        }\n",
    "\n",
    "        return increasing || decreasing;\n",
    "    }\n",
    "\n",
    "    public static void main(String[] args) {\n",
    "        int[] arr = {2, 34, 56, 78, 97};\n",
    "        boolean res = checkMonotonic(arr);\n",
    "        System.out.println(\"Here is the result: \" + res);\n",
    "    }\n",
    "}\n"
   ]
  },
  {
   "cell_type": "code",
   "execution_count": null,
   "id": "8451d46c-e5d4-4021-88a1-1913ef84a90f",
   "metadata": {},
   "outputs": [],
   "source": []
  },
  {
   "cell_type": "markdown",
   "id": "d59b8610-5743-4a91-af16-3c0f2038b0aa",
   "metadata": {},
   "source": [
    "## Q8"
   ]
  },
  {
   "cell_type": "markdown",
   "id": "6de89f04-51b1-4ccc-a6a7-f819eaea9de3",
   "metadata": {},
   "source": [
    "You are given an integer array nums and an integer k.\n",
    "\n",
    "In one operation, you can choose any index i where 0 <= i < nums.length and change nums[i] to nums[i] + x where x is an integer from the range [-k, k]. You can apply this operation at most once for each index i.\n",
    "\n",
    "The score of nums is the difference between the maximum and minimum elements in nums.\n",
    "\n",
    "Return the minimum score of nums after applying the mentioned operation at most once for each index in it.\n",
    "\n",
    "Example 1:\n",
    "Input: nums = [1], k = 0\n",
    "Output: 0\n",
    "\n",
    "Explanation: The score is max(nums) - min(nums) = 1 - 1 = 0."
   ]
  },
  {
   "cell_type": "markdown",
   "id": "5a95b7b8-e3ef-4c05-af61-b4751a92545e",
   "metadata": {},
   "source": [
    "## Ans:"
   ]
  },
  {
   "cell_type": "markdown",
   "id": "cc4ead30-4c3e-46ff-8f40-209359a27342",
   "metadata": {},
   "source": [
    "import java.util.Arrays;\n",
    "\n",
    "public class Q8 {\n",
    "\n",
    "    public static int findMinScore(int[] nums, int k) {\n",
    "        Arrays.sort(nums);\n",
    "\n",
    "        int minVal = nums[0];\n",
    "        int maxVal = nums[nums.length - 1];\n",
    "\n",
    "        int initialScore = maxVal - minVal;\n",
    "\n",
    "        if (k >= maxVal - minVal) {\n",
    "            return 0;\n",
    "        }\n",
    "\n",
    "        for (int i = 1; i < nums.length; i++) {\n",
    "            \n",
    "            int min = nums[i] - k;\n",
    "            int max = nums[i] + k;\n",
    "\n",
    "            minVal = Math.min(minVal, min);\n",
    "            maxVal = Math.max(maxVal, max);\n",
    "        }\n",
    "\n",
    "        return maxVal - minVal;\n",
    "    }\n",
    "\n",
    "    public static void main(String[] args) {\n",
    "        int[] nums = {1, 8, 5, 6, 2};\n",
    "        int k = 0;\n",
    "        int minScore = findMinScore(nums, k);\n",
    "        System.out.println(\"Minimum score: \" + minScore);\n",
    "    }\n",
    "}"
   ]
  },
  {
   "cell_type": "code",
   "execution_count": null,
   "id": "63b841b3-8442-4f8f-83cd-c867b7909959",
   "metadata": {},
   "outputs": [],
   "source": []
  }
 ],
 "metadata": {
  "kernelspec": {
   "display_name": "Python 3 (ipykernel)",
   "language": "python",
   "name": "python3"
  },
  "language_info": {
   "codemirror_mode": {
    "name": "ipython",
    "version": 3
   },
   "file_extension": ".py",
   "mimetype": "text/x-python",
   "name": "python",
   "nbconvert_exporter": "python",
   "pygments_lexer": "ipython3",
   "version": "3.10.8"
  }
 },
 "nbformat": 4,
 "nbformat_minor": 5
}
