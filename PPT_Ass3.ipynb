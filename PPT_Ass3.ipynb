{
 "cells": [
  {
   "cell_type": "markdown",
   "id": "6c7680c6-63b8-4215-a038-c88e8eed72af",
   "metadata": {},
   "source": [
    "## Q1"
   ]
  },
  {
   "cell_type": "markdown",
   "id": "0eaec972-6e46-42f0-9956-056188fad9e5",
   "metadata": {},
   "source": [
    "Given an integer array nums of length n and an integer target, find three integers\n",
    "in nums such that the sum is closest to the target.\n",
    "Return the sum of the three integers.\n",
    "\n",
    "You may assume that each input would have exactly one solution.\n",
    "\n",
    "Example 1:\n",
    "Input: nums = [-1,2,1,-4], target = 1\n",
    "Output: 2\n",
    "\n",
    "Explanation: The sum that is closest to the target is 2. (-1 + 2 + 1 = 2)."
   ]
  },
  {
   "cell_type": "markdown",
   "id": "2c1cba60-1745-414f-a1d6-7ca7f2690cc4",
   "metadata": {},
   "source": [
    "## Ans:"
   ]
  },
  {
   "cell_type": "markdown",
   "id": "c0036038-8be1-49be-8a72-a12ddf2b681f",
   "metadata": {},
   "source": [
    "public class Q1{\n",
    "    public static int clossestSum(int[] arr, int target) {\n",
    "\n",
    "        int n = arr.length;\n",
    "\n",
    "        int sum = arr[0] + arr[1] + arr[2];\n",
    "        for(int i = 0; i < n - 2; i++){\n",
    "            for(int j = i + 1; j < n - 1; j++){\n",
    "                for(int k = j + 1; k < n; k++){\n",
    "                    int sumNow = (arr[i] + arr[j] + arr[k]);\n",
    "                    int diffNow = Math.abs(sumNow - target);\n",
    "                    int diffPrev = Math.abs(sum - target);\n",
    "\n",
    "                    if(diffNow <= diffPrev){\n",
    "                        sum = sumNow;\n",
    "                    }\n",
    "                }\n",
    "            }\n",
    "        }\n",
    "\n",
    "        return sum;\n",
    "    }\n",
    "    public static void main(String[] args) {\n",
    "        int[] arr = {7, 8, 5, -9, 12, 10, -9, 13};\n",
    "        int target = 6;\n",
    "\n",
    "        int res = clossestSum(arr, target);\n",
    "\n",
    "        System.out.println(\"Here is the result : \" + res);\n",
    "    }\n",
    "}"
   ]
  },
  {
   "cell_type": "code",
   "execution_count": null,
   "id": "1791ccb7-2d6b-4592-b8d6-14ea6d12fbb1",
   "metadata": {},
   "outputs": [],
   "source": []
  },
  {
   "cell_type": "markdown",
   "id": "ff91346d-e4d4-4ea0-a0ab-f58f3c836378",
   "metadata": {},
   "source": [
    "## Q2"
   ]
  },
  {
   "cell_type": "markdown",
   "id": "3ac8bf78-0330-4c47-9771-935a0fda52a9",
   "metadata": {},
   "source": [
    "Given an array nums of n integers, return an array of all the unique quadruplets\n",
    "[nums[a], nums[b], nums[c], nums[d]] such that:\n",
    "           ● 0 <= a, b, c, d < n\n",
    "           ● a, b, c, and d are distinct.\n",
    "           ● nums[a] + nums[b] + nums[c] + nums[d] == target\n",
    "\n",
    "You may return the answer in any order.\n",
    "\n",
    "Example 1:\n",
    "Input: nums = [1,0,-1,0,-2,2], target = 0\n",
    "Output: [[-2,-1,1,2],[-2,0,0,2],[-1,0,0,1]]"
   ]
  },
  {
   "cell_type": "markdown",
   "id": "726c3307-7816-4a2b-a6b2-4a9b85c90054",
   "metadata": {},
   "source": [
    "## Ans:"
   ]
  },
  {
   "cell_type": "markdown",
   "id": "10faf575-f78e-4b0f-99af-a51c028bc339",
   "metadata": {},
   "source": [
    "import java.util.*;\n",
    "public class Q2 {\n",
    "\n",
    "    public static List<List<Integer>> findFour(int[] arr, int target){\n",
    "        Set<List<Integer>> res = new HashSet<>();\n",
    "\n",
    "        int n = arr.length;\n",
    "\n",
    "        for(int i = 0; i < n - 3; i++){\n",
    "            for(int j = i + 1; j < n - 2; j++){\n",
    "                for(int k = j + 1; k < n - 1; k++){\n",
    "                    for(int l = k + 1; l < n; l++){\n",
    "                        if (arr[i] + arr[j] + arr[k] + arr[l] == target) {\n",
    "                            List<Integer> numbers = Arrays.asList(arr[i], arr[j], arr[k], arr[l]);\n",
    "                            res.add(numbers);\n",
    "                        }\n",
    "                    }\n",
    "                }\n",
    "            }\n",
    "        }\n",
    "        return new ArrayList(res);\n",
    "    } \n",
    "    public static void main(String[] args) {\n",
    "        int[] nums = {1, 0, -1, 0, -2, 2};\n",
    "        int target = 0;\n",
    "\n",
    "        List<List<Integer>> result = findFour(nums, target);\n",
    "\n",
    "        System.out.println(\"Quadruplets:\");\n",
    "        for (List<Integer> quadruplet : result) {\n",
    "            System.out.println(quadruplet);\n",
    "        }\n",
    "    }\n",
    "}"
   ]
  },
  {
   "cell_type": "code",
   "execution_count": null,
   "id": "fa13cf69-77ba-47ff-8577-debe2af1f6c2",
   "metadata": {},
   "outputs": [],
   "source": []
  },
  {
   "cell_type": "markdown",
   "id": "cbcb8538-407e-459e-af1b-6705fe91dc9d",
   "metadata": {},
   "source": [
    "## Q3"
   ]
  },
  {
   "cell_type": "markdown",
   "id": "59789d7f-61ca-4720-bfa3-053efa5cf38b",
   "metadata": {},
   "source": [
    "A permutation of an array of integers is an arrangement of its members into a\n",
    "sequence or linear order.\n",
    "\n",
    "For example, for arr = [1,2,3], the following are all the permutations of arr:\n",
    "[1,2,3], [1,3,2], [2, 1, 3], [2, 3, 1], [3,1,2], [3,2,1].\n",
    "\n",
    "The next permutation of an array of integers is the next lexicographically greater\n",
    "permutation of its integer. More formally, if all the permutations of the array are\n",
    "sorted in one container according to their lexicographical order, then the next\n",
    "permutation of that array is the permutation that follows it in the sorted container.\n",
    "\n",
    "If such an arrangement is not possible, the array must be rearranged as the\n",
    "lowest possible order (i.e., sorted in ascending order).\n",
    "\n",
    "● For example, the next permutation of arr = [1,2,3] is [1,3,2].\n",
    "● Similarly, the next permutation of arr = [2,3,1] is [3,1,2].\n",
    "● While the next permutation of arr = [3,2,1] is [1,2,3] because [3,2,1] does not\n",
    "have a lexicographical larger rearrangement.\n",
    "\n",
    "Given an array of integers nums, find the next permutation of nums.\n",
    "The replacement must be in place and use only constant extra memory.\n",
    "\n",
    "Example 1:\n",
    "Input: nums = [1,2,3]\n",
    "Output: [1,3,2]"
   ]
  },
  {
   "cell_type": "markdown",
   "id": "a24486e6-c57c-4bae-8fc8-2a77dc5ba233",
   "metadata": {},
   "source": [
    "## Ans:"
   ]
  },
  {
   "cell_type": "markdown",
   "id": "f9dd5c1e-8757-4435-b1eb-23d28f3e0195",
   "metadata": {},
   "source": [
    "import java.util.*;\n",
    "public class Q3{\n",
    "    public static int[] func(int[] arr){\n",
    "\n",
    "        boolean flag = false;\n",
    "\n",
    "        for(int i = 1; i < arr.length - 1; i++){\n",
    "            System.out.println();\n",
    "            System.out.print(\"Here is arr[i] : \" + arr[i + 1]);\n",
    "            System.out.println();\n",
    "            if(arr[i + 1] > arr[i]){\n",
    "                flag = true;\n",
    "                int temp = arr[i];\n",
    "                arr[i] = arr[i + 1];\n",
    "                arr[i + 1] = temp;\n",
    "            }\n",
    "            \n",
    "        }\n",
    "\n",
    "        if(flag == false){\n",
    "            Arrays.sort(arr);\n",
    "            return arr;\n",
    "        }\n",
    "        return arr;\n",
    "    }\n",
    "    public static void main(String[] args) {\n",
    "        int[] arr = {1, 1, 5};\n",
    "\n",
    "        int[] res = func(arr);\n",
    "\n",
    "        for(int i = 0; i < res.length; i++){\n",
    "            System.out.print(res[i] + \" \");\n",
    "        }\n",
    "    }\n",
    "}"
   ]
  },
  {
   "cell_type": "code",
   "execution_count": null,
   "id": "447a576f-3e34-42d2-b2db-ddda521751b6",
   "metadata": {},
   "outputs": [],
   "source": []
  },
  {
   "cell_type": "markdown",
   "id": "b2e806d2-3c1f-4e9c-8775-2939e4c6ec1b",
   "metadata": {},
   "source": [
    "## Q4"
   ]
  },
  {
   "cell_type": "markdown",
   "id": "c50980ef-a704-4c67-8a30-b468dac52899",
   "metadata": {},
   "source": [
    "Given a sorted array of distinct integers and a target value, return the index if the\n",
    "target is found. If not, return the index where it would be if it were inserted in\n",
    "order.\n",
    "\n",
    "You must write an algorithm with O(log n) runtime complexity.\n",
    "\n",
    "Example 1:\n",
    "Input: nums = [1,3,5,6], target = 5\n",
    "Output: 2"
   ]
  },
  {
   "cell_type": "markdown",
   "id": "4ca8f096-b8ec-4b5e-b883-671537858aec",
   "metadata": {},
   "source": [
    "## Ans:"
   ]
  },
  {
   "cell_type": "markdown",
   "id": "d43da6ac-3287-4286-aad1-31fb794550b2",
   "metadata": {},
   "source": [
    "public class Q4 {\n",
    "    public static int findElementPos(int[] arr, int target){\n",
    "        int start = 0;\n",
    "        int end = arr.length - 1;\n",
    "\n",
    "        while(start <= end){\n",
    "            int mid = start + (end - start)/2;\n",
    "\n",
    "            if(arr[mid] == target){\n",
    "                return mid;\n",
    "            }\n",
    "            else if(arr[mid] < target){\n",
    "                start = mid + 1;\n",
    "            }\n",
    "            else{\n",
    "                end = mid - 1;\n",
    "            }\n",
    "        }\n",
    "        return start;\n",
    "    }\n",
    "    public static void main(String[] args) {\n",
    "        int[] arr = {4, 5, 7, 12, 16};\n",
    "        int target = 1;\n",
    "\n",
    "        int res = findElementPos(arr, target);\n",
    "\n",
    "        System.out.println(\"Here is the result : \" + res);\n",
    "    }\n",
    "}"
   ]
  },
  {
   "cell_type": "code",
   "execution_count": null,
   "id": "4a374fd9-d35b-49e7-8a45-00cf7ada0c78",
   "metadata": {},
   "outputs": [],
   "source": []
  },
  {
   "cell_type": "markdown",
   "id": "612cd83f-65b6-434c-823a-7876c3c5d0de",
   "metadata": {},
   "source": [
    "## Q5"
   ]
  },
  {
   "cell_type": "markdown",
   "id": "13af11ab-c0de-4634-b7c9-2a844ff0da92",
   "metadata": {},
   "source": [
    "You are given a large integer represented as an integer array digits, where each\n",
    "digits[i] is the ith digit of the integer. The digits are ordered from most significant\n",
    "to least significant in left-to-right order. The large integer does not contain any\n",
    "leading 0's.\n",
    "\n",
    "Increment the large integer by one and return the resulting array of digits.\n",
    "\n",
    "Example 1:\n",
    "Input: digits = [1,2,3]\n",
    "Output: [1,2,4]\n",
    "\n",
    "Explanation: The array represents the integer 123.\n",
    "Incrementing by one gives 123 + 1 = 124.\n",
    "Thus, the result should be [1,2,4]."
   ]
  },
  {
   "cell_type": "markdown",
   "id": "315a7c31-a924-4bce-9992-88edab2c4e79",
   "metadata": {},
   "source": [
    "## Ans:"
   ]
  },
  {
   "cell_type": "markdown",
   "id": "72a23a48-9dde-444b-95c2-373332206ac1",
   "metadata": {},
   "source": [
    "public class Q5 {\n",
    "    public static int[] increaseByOne(int[] arr){\n",
    "        int digit = 0;\n",
    "\n",
    "        for(int i = 0; i < arr.length; i++){\n",
    "            digit = (digit * 10) + arr[i];\n",
    "        }\n",
    "\n",
    "        digit++;\n",
    "\n",
    "        int length = String.valueOf(digit).length();\n",
    "\n",
    "        int[] res = new int[length];\n",
    "\n",
    "        int cnt = length - 1;\n",
    "        while(digit != 0){\n",
    "            int integer = digit % 10;\n",
    "            res[cnt] = integer;\n",
    "            cnt--;\n",
    "            digit /= 10;\n",
    "        }\n",
    "\n",
    "        return res;\n",
    "    }\n",
    "    public static void main(String[] args) {\n",
    "        int[] arr = {9};\n",
    "\n",
    "        int[] res = increaseByOne(arr);\n",
    "\n",
    "        for(int i = 0; i < res.length; i++){\n",
    "            System.out.print(res[i] + \" \");\n",
    "        }\n",
    "    }\n",
    "}\n"
   ]
  },
  {
   "cell_type": "code",
   "execution_count": null,
   "id": "04fd5f37-6903-4691-ae27-b1de2065c2de",
   "metadata": {},
   "outputs": [],
   "source": []
  },
  {
   "cell_type": "markdown",
   "id": "13be5489-3c5f-4747-abd8-ceaa08793989",
   "metadata": {},
   "source": [
    "## Q6"
   ]
  },
  {
   "cell_type": "markdown",
   "id": "5b6f2429-172d-4aae-b148-ea90a83bb16f",
   "metadata": {},
   "source": [
    "Given a non-empty array of integers nums, every element appears twice except\n",
    "for one. Find that single one.\n",
    "\n",
    "You must implement a solution with a linear runtime complexity and use only\n",
    "constant extra space.\n",
    "\n",
    "Example 1:\n",
    "Input: nums = [2,2,1]\n",
    "Output: 1"
   ]
  },
  {
   "cell_type": "markdown",
   "id": "9d94c674-a657-4ec7-92c1-76b08a1aeaa0",
   "metadata": {},
   "source": [
    "## Ans:"
   ]
  },
  {
   "cell_type": "markdown",
   "id": "66a1c5f5-40a3-467e-907f-824751e9bdb9",
   "metadata": {},
   "source": [
    "import java.util.HashMap;\n",
    "\n",
    "public class Q6 {\n",
    "    public static int findNonRepeatable(int[] arr){\n",
    "        int res = 0;\n",
    "        for(int i = 0; i < arr.length; i++){\n",
    "            res = res ^ arr[i];\n",
    "        }\n",
    "        return res;\n",
    "    }\n",
    "    public static void main(String[] args) {\n",
    "        int[] arr = {2, 2, 3, 3, 6, 5, 7, 5, 6, 7, 8};\n",
    "\n",
    "        int res = findNonRepeatable(arr);\n",
    "\n",
    "        System.out.println(\"Here is the result : \" + res);\n",
    "    }\n",
    "}\n"
   ]
  },
  {
   "cell_type": "code",
   "execution_count": null,
   "id": "7f6ad8f8-dc93-4426-becf-0122c83da7e8",
   "metadata": {},
   "outputs": [],
   "source": []
  },
  {
   "cell_type": "markdown",
   "id": "57f46233-2822-4055-aa5f-84fd10b8f76d",
   "metadata": {},
   "source": [
    "## Q7"
   ]
  },
  {
   "cell_type": "markdown",
   "id": "d0d1b852-b049-45a2-80c0-25c7c544d95f",
   "metadata": {},
   "source": [
    "You are given an inclusive range [lower, upper] and a sorted unique integer array\n",
    "nums, where all elements are within the inclusive range.\n",
    "\n",
    "A number x is considered missing if x is in the range [lower, upper] and x is not in\n",
    "nums.\n",
    "\n",
    "Return the shortest sorted list of ranges that exactly covers all the missing\n",
    "numbers. That is, no element of nums is included in any of the ranges, and each\n",
    "missing number is covered by one of the ranges.\n",
    "\n",
    "Example 1:\n",
    "Input: nums = [0,1,3,50,75], lower = 0, upper = 99\n",
    "Output: [[2,2],[4,49],[51,74],[76,99]]\n",
    "\n",
    "Explanation: The ranges are:\n",
    "[2,2]\n",
    "[4,49]\n",
    "[51,74]\n",
    "[76,99]"
   ]
  },
  {
   "cell_type": "markdown",
   "id": "7aaa4d21-7bb3-4a14-b743-21bf91115b0b",
   "metadata": {},
   "source": [
    "## Ans:"
   ]
  },
  {
   "cell_type": "markdown",
   "id": "2d2f3bc8-44ae-4a8e-bb07-c6d4aea96385",
   "metadata": {},
   "source": [
    "import java.util.ArrayList;\n",
    "import java.util.List;\n",
    "\n",
    "public class Q7 {\n",
    "    public static List<List<Integer>> findMissingRange(int[] arr, int lower, int upper){\n",
    "\n",
    "        List<List<Integer>> result = new ArrayList<>();\n",
    "\n",
    "        int cnt = lower;\n",
    "\n",
    "        for (int i = 0; i < arr.length; i++){\n",
    "\n",
    "            int curr = arr[i];\n",
    "            \n",
    "            if (cnt < curr){\n",
    "                List<Integer> range = new ArrayList<>();\n",
    "                range.add(cnt);\n",
    "                range.add(curr - 1);\n",
    "                result.add(range);\n",
    "            }\n",
    "            cnt = curr + 1;\n",
    "        }\n",
    "\n",
    "        if (cnt <= upper){\n",
    "            List<Integer> range = new ArrayList<>();\n",
    "            range.add(cnt);\n",
    "            range.add(upper);\n",
    "            result.add(range);\n",
    "        }\n",
    "\n",
    "        return result;\n",
    "    }\n",
    "\n",
    "    public static void main(String[] args){\n",
    "        int[] arr = {0, 1, 3, 50, 75};\n",
    "        int lower = 0;\n",
    "        int upper = 99;\n",
    "\n",
    "        List<List<Integer>> res = findMissingRange(arr, lower, upper);\n",
    "\n",
    "        System.out.println(res);\n",
    "    }\n",
    "}\n"
   ]
  },
  {
   "cell_type": "code",
   "execution_count": null,
   "id": "f9752822-e5a8-4c89-a661-60cf24882eaa",
   "metadata": {},
   "outputs": [],
   "source": []
  },
  {
   "cell_type": "markdown",
   "id": "28ddc7ed-787b-44fd-bbdd-e6fb8d8ffb71",
   "metadata": {},
   "source": [
    "## Q8"
   ]
  },
  {
   "cell_type": "markdown",
   "id": "48348e76-2b86-4bdd-9804-3a71fed6aab2",
   "metadata": {},
   "source": [
    "Given an array of meeting time intervals where intervals[i] = [starti, endi],\n",
    "determine if a person could attend all meetings.\n",
    "\n",
    "Example 1:\n",
    "Input: intervals = [[0,30],[5,10],[15,20]]\n",
    "Output: false"
   ]
  },
  {
   "cell_type": "markdown",
   "id": "5f85a254-12a2-430c-b1f9-81265ab4cc94",
   "metadata": {},
   "source": [
    "## Ans:"
   ]
  },
  {
   "cell_type": "markdown",
   "id": "97fbca28-9295-47f5-aa3f-f5b4dc5e6930",
   "metadata": {},
   "source": [
    "public class Q8 {\n",
    "    public static boolean checkAttendance(int[][] arr){\n",
    "\n",
    "        for(int k = 0; k < arr.length; k++){\n",
    "            for(int i = 0; i < arr.length - 1; i++){\n",
    "                if(arr[i + 1][0] < arr[i][0]){\n",
    "                    int temp = arr[i][0];\n",
    "                    int temp1 = arr[i][1];\n",
    "                    arr[i][0] = arr[i + 1][0];\n",
    "                    arr[i][1] = arr[i + 1][1];\n",
    "                    arr[i + 1][0] = temp;\n",
    "                    arr[i + 1][1] = temp1;\n",
    "                }\n",
    "            }\n",
    "        }\n",
    "\n",
    "        for(int h = 0; h < arr.length - 1; h++){\n",
    "            if(arr[h + 1][0] < arr[h][1]){\n",
    "                return false;\n",
    "            }\n",
    "        }\n",
    "        return true;\n",
    "    }\n",
    "    public static void main(String[] args) {\n",
    "        int[][] schedule = {{0, 30}, {5, 10}, {15, 20}, {12, 30}, {19, 36}, {25, 45}, {3, 20}};\n",
    "        int[][] schedule2 = {{0, 15}, {20, 30}, {35, 40}};\n",
    "\n",
    "        boolean res = checkAttendance(schedule2);\n",
    "\n",
    "        System.out.println(\"Here is the result : \" + res);\n",
    "    }\n",
    "}"
   ]
  },
  {
   "cell_type": "code",
   "execution_count": null,
   "id": "44982bf0-10b0-4b35-ad5b-599454e172f8",
   "metadata": {},
   "outputs": [],
   "source": []
  }
 ],
 "metadata": {
  "kernelspec": {
   "display_name": "Python 3 (ipykernel)",
   "language": "python",
   "name": "python3"
  },
  "language_info": {
   "codemirror_mode": {
    "name": "ipython",
    "version": 3
   },
   "file_extension": ".py",
   "mimetype": "text/x-python",
   "name": "python",
   "nbconvert_exporter": "python",
   "pygments_lexer": "ipython3",
   "version": "3.10.8"
  }
 },
 "nbformat": 4,
 "nbformat_minor": 5
}
