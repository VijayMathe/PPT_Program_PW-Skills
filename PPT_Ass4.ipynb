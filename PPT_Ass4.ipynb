{
 "cells": [
  {
   "cell_type": "markdown",
   "id": "40ab505f-1228-4c91-8bd8-ffc9987a2588",
   "metadata": {},
   "source": [
    "## Q1"
   ]
  },
  {
   "cell_type": "markdown",
   "id": "49372ba6-8646-4430-a3c1-9aeee89106fd",
   "metadata": {},
   "source": [
    "Given three integer arrays arr1, arr2 and arr3 **sorted** in **strictly increasing** order, return a sorted array of **only** the integers that appeared in **all** three arrays.\n",
    "\n",
    "Example 1:\n",
    "\n",
    "Input: arr1 = [1,2,3,4,5], arr2 = [1,2,5,7,9], arr3 = [1,3,4,5,8]\n",
    "\n",
    "Output: [1,5]\n",
    "\n",
    "Explanation: Only 1 and 5 appeared in the three arrays."
   ]
  },
  {
   "cell_type": "markdown",
   "id": "29ceb184-813c-4c39-8fbf-1eb249535336",
   "metadata": {},
   "source": [
    "## Ans:"
   ]
  },
  {
   "cell_type": "markdown",
   "id": "cc6d7626-a501-41c8-a621-1144ae228aa8",
   "metadata": {},
   "source": [
    "import java.util.*;\n",
    "\n",
    "public class Q1{\n",
    "    public static boolean findInArray(int[] arr, int k){\n",
    "        for(int i = 0; i < arr.length; i++){\n",
    "            if(arr[i] == k){\n",
    "                return true;\n",
    "            }\n",
    "        }\n",
    "        return false;\n",
    "    }\n",
    "    public static int[] retSortArray(int[] arr1, int[] arr2, int[] arr3){\n",
    "        List<Integer> list = new ArrayList<>();\n",
    "\n",
    "        for(int i = 0; i < arr1.length; i++){\n",
    "            boolean a1 = findInArray(arr2, arr1[i]);\n",
    "            boolean a2 = findInArray(arr3, arr1[i]);\n",
    "\n",
    "            if(a1 && a2){\n",
    "                list.add(arr1[i]);\n",
    "            }\n",
    "        }\n",
    "        int[] res = new int[list.size()];\n",
    "\n",
    "        int j = 0;\n",
    "        for(int i : list){\n",
    "            res[j] = i;\n",
    "            j++;\n",
    "        }\n",
    "\n",
    "        return res;\n",
    "\n",
    "    }\n",
    "    public static void main(String[] args) {\n",
    "        int[] arr1 = {1,2,3,4,10, 45, 12, 12};\n",
    "        int[] arr2 = {1,2,5,7,9, 12, 12, 45};\n",
    "        int[] arr3 = {1,2,5,7,9, 45, 12, 12};\n",
    "\n",
    "        int[] res = retSortArray(arr1, arr2, arr3);\n",
    "\n",
    "        for(int i = 0; i < res.length; i++){\n",
    "            System.out.print(res[i] + \" \");\n",
    "        }\n",
    "    }\n",
    "}"
   ]
  },
  {
   "cell_type": "code",
   "execution_count": null,
   "id": "8495701a-ac71-4bc9-8726-cf3f55099d92",
   "metadata": {},
   "outputs": [],
   "source": []
  },
  {
   "cell_type": "markdown",
   "id": "aa351f2d-00ca-4fde-90cb-08966098c2f8",
   "metadata": {},
   "source": [
    "## Q2"
   ]
  },
  {
   "cell_type": "markdown",
   "id": "5930c02d-c9b9-43ab-8f42-9bd35bd1a901",
   "metadata": {},
   "source": [
    "Given two **0-indexed** integer arrays nums1 and nums2, return *a list* answer *of size* 2 *where:*\n",
    "\n",
    "- answer[0] *is a list of all **distinct** integers in* nums1 *which are **not** present in* nums2*.*\n",
    "- answer[1] *is a list of all **distinct** integers in* nums2 *which are **not** present in* nums1.\n",
    "\n",
    "**Note** that the integers in the lists may be returned in **any** order.\n",
    "\n",
    "**Example 1:**\n",
    "\n",
    "**Input:** nums1 = [1,2,3], nums2 = [2,4,6]\n",
    "\n",
    "**Output:** [[1,3],[4,6]]\n",
    "\n",
    "**Explanation:**\n",
    "\n",
    "For nums1, nums1[1] = 2 is present at index 0 of nums2, whereas nums1[0] = 1 and nums1[2] = 3 are not present in nums2. Therefore, answer[0] = [1,3].\n",
    "\n",
    "For nums2, nums2[0] = 2 is present at index 1 of nums1, whereas nums2[1] = 4 and nums2[2] = 6 are not present in nums2. Therefore, answer[1] = [4,6]."
   ]
  },
  {
   "cell_type": "markdown",
   "id": "7254e142-9d5a-4215-b1e3-6c7b44b2e3a1",
   "metadata": {},
   "source": [
    "## Ans:"
   ]
  },
  {
   "cell_type": "markdown",
   "id": "1416c837-db74-4955-9565-7807aa38c37d",
   "metadata": {},
   "source": [
    "import java.util.ArrayList;\n",
    "import java.util.*;\n",
    "\n",
    "public class Q2 {\n",
    "\n",
    "    public static boolean findInArray(int[] arr, int k){\n",
    "        for(int i = 0; i < arr.length; i++){\n",
    "            if(arr[i] == k){\n",
    "                return true;\n",
    "            }\n",
    "        }\n",
    "        return false;\n",
    "    }\n",
    "\n",
    "    public static List<List<Integer>> findElements(int[] arr1, int[] arr2){\n",
    "\n",
    "        List<List<Integer>> result = new ArrayList<>();\n",
    "\n",
    "        List<Integer> list1 = new ArrayList<>();\n",
    "        List<Integer> list2 = new ArrayList<>();\n",
    "\n",
    "        for(int i = 0; i < arr1.length; i++){\n",
    "            boolean res = findInArray(arr2, arr1[i]);\n",
    "            if(!res){\n",
    "                list1.add(arr1[i]);\n",
    "            }\n",
    "        }\n",
    "\n",
    "        for(int i = 0; i < arr2.length; i++){\n",
    "            boolean res = findInArray(arr1, arr2[i]);\n",
    "            if(!res){\n",
    "                list2.add(arr2[i]);\n",
    "            }\n",
    "        }\n",
    "\n",
    "        result.add(list1);\n",
    "        result.add(list2);\n",
    "\n",
    "        return result;\n",
    "    }\n",
    "\n",
    "    public static void main(String[] args) {\n",
    "        int[] arr1 = {1, 2, 3, 4};\n",
    "        int[] arr2 = {3, 4, 5, 6};\n",
    "\n",
    "        List<List<Integer>> res = findElements(arr1, arr2);\n",
    "\n",
    "        System.out.println(res);\n",
    "    }\n",
    "}\n"
   ]
  },
  {
   "cell_type": "code",
   "execution_count": null,
   "id": "c0c53beb-6464-46b3-9ad0-0fc52f0d0902",
   "metadata": {},
   "outputs": [],
   "source": []
  },
  {
   "cell_type": "markdown",
   "id": "5cd62664-5c87-47f1-b316-eca34f89e40b",
   "metadata": {},
   "source": [
    "## Q3"
   ]
  },
  {
   "cell_type": "markdown",
   "id": "da135352-79f2-43e9-9a8c-6005b48cdf81",
   "metadata": {},
   "source": [
    "Given a 2D integer array matrix, return *the **transpose** of* matrix.\n",
    "\n",
    "The transpose of a matrix is the matrix flipped over its main diagonal, switching the matrix's row and column indices.\n",
    "\n",
    "Example 1:\n",
    "\n",
    "Input: matrix = [[1,2,3],[4,5,6],[7,8,9]]\n",
    "\n",
    "Output: [[1,4,7],[2,5,8],[3,6,9]]"
   ]
  },
  {
   "cell_type": "markdown",
   "id": "60221538-713f-4e46-9000-27000f5cd1f1",
   "metadata": {},
   "source": [
    "## Ans:"
   ]
  },
  {
   "cell_type": "markdown",
   "id": "5340c983-c4ea-4c73-8e42-b54380ae684e",
   "metadata": {},
   "source": [
    "public class Q3 {\n",
    "    public static void transpose(int[][] arr){\n",
    "        for(int i = 0; i < arr.length; i++){\n",
    "            for(int j = i + 1; j < arr.length; j++){\n",
    "                int temp = arr[i][j];\n",
    "                arr[i][j] = arr[j][i];\n",
    "                arr[j][i] = temp;\n",
    "            }\n",
    "        }\n",
    "    }\n",
    "    public static void main(String[] args) {\n",
    "        int[][] arr = {{7, 5, 1}, {4, 0, 3}, {9, 6, 12}};\n",
    "\n",
    "        System.out.println(\"Here is the original matrix :\");\n",
    "\n",
    "        for(int i = 0; i < arr.length; i++){\n",
    "            for(int j = 0; j < arr.length; j++){\n",
    "                System.out.print(arr[i][j] + \" \");\n",
    "            }\n",
    "            System.out.println();\n",
    "        }\n",
    "\n",
    "        transpose(arr);\n",
    "\n",
    "        System.out.println(\"Here is the transpose matrix :\");\n",
    "\n",
    "        for(int i = 0; i < arr.length; i++){\n",
    "            for(int j = 0; j < arr.length; j++){\n",
    "                System.out.print(arr[i][j] + \" \");\n",
    "            }\n",
    "            System.out.println();\n",
    "        }\n",
    "    }\n",
    "}\n"
   ]
  },
  {
   "cell_type": "code",
   "execution_count": null,
   "id": "8030b11d-fc8e-4375-9013-601659f293ca",
   "metadata": {},
   "outputs": [],
   "source": []
  },
  {
   "cell_type": "markdown",
   "id": "13671c40-99f3-49e3-a4ac-e38d841d6c1e",
   "metadata": {},
   "source": [
    "## Q4"
   ]
  },
  {
   "cell_type": "markdown",
   "id": "daea97c2-6e45-4e16-a0e6-ac35ab71315a",
   "metadata": {},
   "source": [
    "<aside>\n",
    "💡 Given an integer array nums of 2n integers, group these integers into n pairs (a1, b1), (a2, b2), ..., (an, bn) such that the sum of min(ai, bi) for all i is **maximized**. Return *the maximized sum*.\n",
    "\n",
    "**Example 1:**\n",
    "\n",
    "Input: nums = [1,4,3,2]\n",
    "\n",
    "Output: 4\n",
    "\n",
    "**Explanation:** All possible pairings (ignoring the ordering of elements) are:\n",
    "\n",
    "1. (1, 4), (2, 3) -> min(1, 4) + min(2, 3) = 1 + 2 = 3\n",
    "\n",
    "2. (1, 3), (2, 4) -> min(1, 3) + min(2, 4) = 1 + 2 = 3\n",
    "\n",
    "3. (1, 2), (3, 4) -> min(1, 2) + min(3, 4) = 1 + 3 = 4\n",
    "\n",
    "So the maximum possible sum is 4.\n",
    "\n",
    "</aside>"
   ]
  },
  {
   "cell_type": "markdown",
   "id": "0977a559-50f4-40bb-b0a8-d942f9e7f97c",
   "metadata": {},
   "source": [
    "## Ans:"
   ]
  },
  {
   "cell_type": "markdown",
   "id": "0a039480-cccd-4992-b2bb-c0b82cc19fef",
   "metadata": {},
   "source": [
    "import java.util.HashMap; import java.util.*;\n",
    "\n",
    "public class Q4{ \n",
    "    public static int maxPairSum(int[] arr){\n",
    "\n",
    "    int maxSum = -1;\n",
    "\n",
    "    HashMap<Integer, Integer> map = new HashMap<>();\n",
    "\n",
    "    for(int i = 0; i < arr.length-1; i++){\n",
    "        int key = arr[i];\n",
    "        for(int j = i + 1; j < arr.length; j++){\n",
    "            map.put(key, arr[j]);\n",
    "        }\n",
    "    }\n",
    "\n",
    "    Set<Integer> keys = map.keySet();\n",
    "\n",
    "    Integer[] valuesArray = keys.toArray(new Integer[0]);\n",
    "\n",
    "    List<Integer> keys1 = new ArrayList<>(map.keySet());\n",
    "    int size = keys.size();\n",
    "\n",
    "    for (int i = 0; i < size - 1; i++) {\n",
    "        for (int j = i + 1; j < size; j++) {\n",
    "\n",
    "            int sum = Math.min(map.get(keys1.get(i)), keys1.get(i)) + Math.min(map.get(keys1.get(j)), keys1.get(j));\n",
    "            maxSum = Math.max(maxSum, sum);\n",
    "\n",
    "        }\n",
    "    }\n",
    "\n",
    "    return maxSum;\n",
    "}\n",
    "public static void main(String[] args) {\n",
    "    int[] arr = {1, 4, 3, 2};\n",
    "\n",
    "    int res = maxPairSum(arr);\n",
    "\n",
    "    System.out.println(\"The Max Sum is : \" + res);\n",
    "}\n",
    "}"
   ]
  },
  {
   "cell_type": "code",
   "execution_count": null,
   "id": "14469402-afa1-407d-a457-446e44c5daed",
   "metadata": {},
   "outputs": [],
   "source": []
  },
  {
   "cell_type": "markdown",
   "id": "5a2ebc37-4208-4e11-8637-b8546b50c8a5",
   "metadata": {},
   "source": [
    "## Q5"
   ]
  },
  {
   "cell_type": "markdown",
   "id": "7042e6f7-0eab-44a0-890b-2d10c24ad1e0",
   "metadata": {},
   "source": [
    "<aside>\n",
    "💡 **Question 5**\n",
    "You have n coins and you want to build a staircase with these coins. The staircase consists of k rows where the ith row has exactly i coins. The last row of the staircase **may be** incomplete.\n",
    "\n",
    "Given the integer n, return *the number of **complete rows** of the staircase you will build*.\n",
    "\n",
    "**Example 1:**\n",
    "\n",
    "[]()\n",
    "\n",
    "![v2.jpg](https://s3-us-west-2.amazonaws.com/secure.notion-static.com/4bd91cfa-d2b1-47b3-8197-a72e8dcfff4b/v2.jpg)\n",
    "\n",
    "**Input:** n = 5\n",
    "\n",
    "**Output:** 2\n",
    "\n",
    "**Explanation:** Because the 3rd row is incomplete, we return 2.\n",
    "\n",
    "</aside>"
   ]
  },
  {
   "cell_type": "markdown",
   "id": "eafadf35-fd5b-465d-9dd8-99e0737917d0",
   "metadata": {},
   "source": [
    "## Ans:"
   ]
  },
  {
   "cell_type": "markdown",
   "id": "726f7640-0711-4876-9e62-fc0899bb0535",
   "metadata": {},
   "source": [
    "import java.util.Scanner;\n",
    "\n",
    "public class Q5 {\n",
    "    public static void main(String[] args) {\n",
    "        System.out.println(\"Enter n :\");\n",
    "        int n = new Scanner(System.in).nextInt();\n",
    "\n",
    "        int cnt = 0;\n",
    "\n",
    "        for(int i = 1; i < n; i++){\n",
    "            n -= i;\n",
    "            cnt++;\n",
    "            if(n < 0){\n",
    "                cnt = cnt - 1;\n",
    "                break;\n",
    "            }\n",
    "        }\n",
    "        System.out.println(\"Maximum staircases can be : \" + cnt);\n",
    "    }\n",
    "}"
   ]
  },
  {
   "cell_type": "code",
   "execution_count": null,
   "id": "ee7b6373-09fb-41a1-b493-5ef8324e54fa",
   "metadata": {},
   "outputs": [],
   "source": []
  },
  {
   "cell_type": "markdown",
   "id": "2cd1a84d-51c7-4444-9849-629ab9f63d8f",
   "metadata": {},
   "source": [
    "## Q6"
   ]
  },
  {
   "cell_type": "markdown",
   "id": "2f0fe687-5166-474d-b79e-e7d1d1c9f8d0",
   "metadata": {},
   "source": [
    "<aside>\n",
    "💡 Given an integer array nums sorted in **non-decreasing** order, return *an array of **the squares of each number** sorted in non-decreasing order*.\n",
    "\n",
    "**Example 1:**\n",
    "\n",
    "Input: nums = [-4,-1,0,3,10]\n",
    "\n",
    "Output: [0,1,9,16,100]\n",
    "\n",
    "**Explanation:** After squaring, the array becomes [16,1,0,9,100].\n",
    "After sorting, it becomes [0,1,9,16,100]\n",
    "\n",
    "</aside>"
   ]
  },
  {
   "cell_type": "markdown",
   "id": "1d579fdf-6f9c-4cb1-9b0f-5b741b0fa5cf",
   "metadata": {},
   "source": [
    "## Ans:"
   ]
  },
  {
   "cell_type": "markdown",
   "id": "8a7ca92d-ff3e-489a-955c-4908f21e8f75",
   "metadata": {},
   "source": [
    "public class Q6 {\n",
    "    public static void sortInSquares(int[] arr){\n",
    "        for(int i = 0; i < arr.length; i++){\n",
    "            arr[i] = arr[i] * arr[i];\n",
    "        }\n",
    "\n",
    "        for(int i = 0; i < arr.length; i++){\n",
    "            int smallestIndex = i;\n",
    "            int j = i + 1;\n",
    "            while(j < arr.length){\n",
    "                if(arr[j] < arr[smallestIndex]){\n",
    "                    smallestIndex = j;\n",
    "                }\n",
    "                j++;\n",
    "            }\n",
    "            int temp = arr[i];\n",
    "            arr[i] = arr[smallestIndex];\n",
    "            arr[smallestIndex] = temp;\n",
    "        }\n",
    "    }\n",
    "    public static void main(String[] args) {\n",
    "        int[] arr = {-4, 3, 0, 2, -1};\n",
    "        \n",
    "        sortInSquares(arr);\n",
    "\n",
    "        for(int i = 0; i < arr.length; i++){\n",
    "            System.out.print(arr[i] + \" \");\n",
    "        }\n",
    "    }\n",
    "}\n"
   ]
  },
  {
   "cell_type": "code",
   "execution_count": null,
   "id": "2e9dcabd-5b43-403c-b7dc-2f3b090cf476",
   "metadata": {},
   "outputs": [],
   "source": []
  },
  {
   "cell_type": "markdown",
   "id": "060a831c-0404-49d3-aa6b-4e810defa905",
   "metadata": {},
   "source": [
    "## Q7"
   ]
  },
  {
   "cell_type": "markdown",
   "id": "3414fcd1-b517-4895-bebe-6deaa9ba1da1",
   "metadata": {},
   "source": [
    "<aside>\n",
    "💡 You are given an m x n matrix M initialized with all 0's and an array of operations ops, where ops[i] = [ai, bi] means M[x][y] should be incremented by one for all 0 <= x < ai and 0 <= y < bi.\n",
    "\n",
    "Count and return *the number of maximum integers in the matrix after performing all the operations*\n",
    "\n",
    "**Example 1:**\n",
    "\n",
    "![q4.jpg](https://s3-us-west-2.amazonaws.com/secure.notion-static.com/4d0890d0-7bc7-4f59-be8e-352d9f3c1c52/q4.jpg)\n",
    "\n",
    "**Input:** m = 3, n = 3, ops = [[2,2],[3,3]]\n",
    "\n",
    "**Output:** 4\n",
    "\n",
    "**Explanation:** The maximum integer in M is 2, and there are four of it in M. So return 4.\n",
    "\n",
    "</aside>"
   ]
  },
  {
   "cell_type": "markdown",
   "id": "4455925a-90d1-4ab8-bcf6-8f44b994632c",
   "metadata": {},
   "source": [
    "## Ans:"
   ]
  },
  {
   "cell_type": "markdown",
   "id": "41773164-9794-4d2f-b550-d340109542b4",
   "metadata": {},
   "source": [
    "public class Q7 {\n",
    "    public static void performAction(int[][] matrix, int[][] ops){\n",
    "        \n",
    "\n",
    "        // for(int i = 0; i < ops.length; i++){\n",
    "        //     int x = 0;\n",
    "        //     int y = 0;\n",
    "\n",
    "        //     while(x < ops[i][0] && x < matrix.length){\n",
    "        //         matrix[x][y]++;\n",
    "        //         System.out.println(\"incrementing this x: \" + x +  \" \" + y);\n",
    "        //         System.out.println(\"This is this : \" + ops[i][0]);\n",
    "        //         x++;\n",
    "        //     }\n",
    "        //     while(y < ops[i][1] && y < matrix[0].length){\n",
    "        //         matrix[x][y]++;\n",
    "        //         System.out.println(\"incrementing this y: \" + x +  \" \" + y);\n",
    "        //         y++;\n",
    "        //     }\n",
    "        // }\n",
    "\n",
    "        for(int i = 0; i < ops.length; i++){\n",
    "            int x = Math.min(matrix.length, ops[i][0]);\n",
    "            int y = Math.min(matrix[0].length, ops[i][1]);\n",
    "\n",
    "            for(int j = 0; j < x; j++){\n",
    "                for(int k = 0; k < y; k++){\n",
    "                    matrix[j][k]++;\n",
    "                }\n",
    "            }\n",
    "        }\n",
    "    }\n",
    "    public static void main(String[] args) {\n",
    "\n",
    "        int[][] matrix = {{0, 0, 0}, {0, 0, 0}, {0, 0, 0}};\n",
    "\n",
    "        int[][] ops = {{2, 2}, {3, 3}};\n",
    "        \n",
    "        performAction(matrix, ops);\n",
    "\n",
    "        for(int i = 0; i < matrix.length; i++){\n",
    "            for(int j = 0; j < matrix[0].length; j++){\n",
    "                System.out.print(matrix[i][j] + \" \");\n",
    "            }\n",
    "            System.out.println();\n",
    "        }\n",
    "    }\n",
    "}"
   ]
  },
  {
   "cell_type": "code",
   "execution_count": null,
   "id": "250afb33-f416-41f1-b252-67178711b857",
   "metadata": {},
   "outputs": [],
   "source": []
  },
  {
   "cell_type": "markdown",
   "id": "d4dd4117-edf9-438f-8dd6-fbf14d0ca94f",
   "metadata": {},
   "source": [
    "## Q8"
   ]
  },
  {
   "cell_type": "markdown",
   "id": "54695532-4ce3-4f90-b49e-0a66425ef51e",
   "metadata": {},
   "source": [
    "Given the array nums consisting of 2n elements in the form [x1,x2,...,xn,y1,y2,...,yn].\n",
    "\n",
    "*Return the array in the form* [x1,y1,x2,y2,...,xn,yn].\n",
    "\n",
    "**Example 1:**\n",
    "\n",
    "**Input:** nums = [2,5,1,3,4,7], n = 3\n",
    "\n",
    "**Output:** [2,3,5,4,1,7]\n",
    "\n",
    "**Explanation:** Since x1=2, x2=5, x3=1, y1=3, y2=4, y3=7 then the answer is [2,3,5,4,1,7]."
   ]
  },
  {
   "cell_type": "markdown",
   "id": "bf55e35e-7fa1-4054-b7b2-37f464d9a626",
   "metadata": {},
   "source": [
    "## Ans:"
   ]
  },
  {
   "cell_type": "markdown",
   "id": "05cfd1d2-ce16-4a4e-9d34-90ba190146a6",
   "metadata": {},
   "source": [
    "public class Q8 {\n",
    "    public static int[] performAction(int[] nums, int n){\n",
    "\n",
    "        int[] result = new int[2 * n];\n",
    "        int index = 0;\n",
    "        for (int i = 0; i < n; i++) {\n",
    "            result[index++] = nums[i];\n",
    "            result[index++] = nums[i + n];\n",
    "        }\n",
    "        return result;\n",
    "    }\n",
    "\n",
    "    public static void performActionInPlace(int[] arr, int n){\n",
    "        for(int i = 0; i < n; i++){\n",
    "            int temp = arr[i + n];\n",
    "            for(int j = i + n; j > i + 1; j--){\n",
    "                arr[j] = arr[j - 1];\n",
    "            }\n",
    "            arr[i + 1] = temp;\n",
    "            i++;\n",
    "        }\n",
    "    }\n",
    "    public static void main(String[] args) {\n",
    "        int[] arr = {2, 5, 1, 3, 4, 7};\n",
    "        int n = 3;\n",
    "        performActionInPlace(arr, n);\n",
    "\n",
    "        for(int i = 0; i < arr.length; i++){\n",
    "            System.out.print(arr[i] + \" \");\n",
    "        }\n",
    "    }\n",
    "}\n"
   ]
  },
  {
   "cell_type": "code",
   "execution_count": null,
   "id": "ec31134e-0f01-49a4-8a38-f0d69a7a02b1",
   "metadata": {},
   "outputs": [],
   "source": []
  }
 ],
 "metadata": {
  "kernelspec": {
   "display_name": "Python 3 (ipykernel)",
   "language": "python",
   "name": "python3"
  },
  "language_info": {
   "codemirror_mode": {
    "name": "ipython",
    "version": 3
   },
   "file_extension": ".py",
   "mimetype": "text/x-python",
   "name": "python",
   "nbconvert_exporter": "python",
   "pygments_lexer": "ipython3",
   "version": "3.10.8"
  }
 },
 "nbformat": 4,
 "nbformat_minor": 5
}
